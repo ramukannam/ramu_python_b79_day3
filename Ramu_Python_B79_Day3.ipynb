{
 "cells": [
  {
   "cell_type": "code",
   "execution_count": 1,
   "id": "180e1566",
   "metadata": {},
   "outputs": [
    {
     "name": "stdout",
     "output_type": "stream",
     "text": [
      "Hello all welcome to python programning\n"
     ]
    }
   ],
   "source": [
    "print(\"Hello all welcome to python programning\")"
   ]
  },
  {
   "cell_type": "code",
   "execution_count": 17,
   "id": "5191a198",
   "metadata": {},
   "outputs": [
    {
     "name": "stdout",
     "output_type": "stream",
     "text": [
      "RAMU KANNAM\n"
     ]
    }
   ],
   "source": [
    "fullname = \"ramu kannam\"\n",
    "print(fullname.upper())"
   ]
  },
  {
   "cell_type": "code",
   "execution_count": 18,
   "id": "787b53ca",
   "metadata": {},
   "outputs": [
    {
     "name": "stdout",
     "output_type": "stream",
     "text": [
      "ramu kannam\n"
     ]
    }
   ],
   "source": [
    "fullname = \"ramu kannam\"\n",
    "print(fullname.lower())"
   ]
  },
  {
   "cell_type": "code",
   "execution_count": 20,
   "id": "34aaa9e3",
   "metadata": {},
   "outputs": [
    {
     "name": "stdout",
     "output_type": "stream",
     "text": [
      "Ramu Kannam\n"
     ]
    }
   ],
   "source": [
    "fullname = \"ramu kannam\"\n",
    "print(fullname.title())"
   ]
  },
  {
   "cell_type": "code",
   "execution_count": 21,
   "id": "d4082250",
   "metadata": {},
   "outputs": [
    {
     "name": "stdout",
     "output_type": "stream",
     "text": [
      "ramu kannam\n"
     ]
    }
   ],
   "source": [
    "_fullname = \"ramu kannam\"\n",
    "print(_fullname)"
   ]
  },
  {
   "cell_type": "code",
   "execution_count": 24,
   "id": "36b0f350",
   "metadata": {},
   "outputs": [
    {
     "name": "stdout",
     "output_type": "stream",
     "text": [
      "ramu kannam\n"
     ]
    }
   ],
   "source": [
    "fudllname = \"ramu kannam\"\n",
    "print(fudllname)"
   ]
  },
  {
   "cell_type": "code",
   "execution_count": null,
   "id": "d3bdb2e4",
   "metadata": {},
   "outputs": [],
   "source": [
    "python_day03"
   ]
  },
  {
   "cell_type": "code",
   "execution_count": null,
   "id": "98f21a90",
   "metadata": {},
   "outputs": [],
   "source": [
    "understanding the concept of strings day02 continuation"
   ]
  },
  {
   "cell_type": "code",
   "execution_count": null,
   "id": "21f84656",
   "metadata": {},
   "outputs": [],
   "source": [
    "understanding the concept of \"f\" string"
   ]
  },
  {
   "cell_type": "code",
   "execution_count": 7,
   "id": "3b0ecbaf",
   "metadata": {},
   "outputs": [
    {
     "name": "stdout",
     "output_type": "stream",
     "text": [
      "ramu\n",
      "kannam\n"
     ]
    }
   ],
   "source": [
    "firstname=\"ramu\"\n",
    "lastname=\"kannam\"\n",
    "print(firstname)\n",
    "print(lastname)"
   ]
  },
  {
   "cell_type": "code",
   "execution_count": null,
   "id": "a53af317",
   "metadata": {},
   "outputs": [],
   "source": [
    "giving print for two times to get fullname still not getting properly"
   ]
  },
  {
   "cell_type": "code",
   "execution_count": null,
   "id": "8a72f80d",
   "metadata": {},
   "outputs": [],
   "source": [
    "however, using \"f\" string we can get fullname in a single shot"
   ]
  },
  {
   "cell_type": "code",
   "execution_count": null,
   "id": "62b0f3bb",
   "metadata": {},
   "outputs": [],
   "source": [
    "gefneral syntax = f\"{place_holder1}{place_holder2}\""
   ]
  },
  {
   "cell_type": "code",
   "execution_count": 12,
   "id": "3e9c9659",
   "metadata": {},
   "outputs": [
    {
     "name": "stdout",
     "output_type": "stream",
     "text": [
      "ramu kannam\n"
     ]
    }
   ],
   "source": [
    "fullname = f\"{firstname} {lastname}\"\n",
    "print(fullname)"
   ]
  },
  {
   "cell_type": "code",
   "execution_count": 27,
   "id": "c4681780",
   "metadata": {},
   "outputs": [
    {
     "name": "stdout",
     "output_type": "stream",
     "text": [
      "what about dinner,ajay kannam\n"
     ]
    }
   ],
   "source": [
    "firstname = \"ajay\"\n",
    "lastname = \"kannam\"\n",
    "fullname = f\"{firstname} {lastname}\"\n",
    "messsage = f\"what about dinner,{fullname}\"\n",
    "print(messsage,)"
   ]
  },
  {
   "cell_type": "code",
   "execution_count": 42,
   "id": "196d304c",
   "metadata": {},
   "outputs": [
    {
     "name": "stdout",
     "output_type": "stream",
     "text": [
      "Nenu Ninnu Miss Avtunna,Rajaiah Kannam\n"
     ]
    }
   ],
   "source": [
    "firstname = \"rajaiah\"\n",
    "lastname = \"kannam\"\n",
    "fullname = f\"{firstname} {lastname}\"\n",
    "message = f\"nenu ninnu miss avtunna,{fullname}\"\n",
    "print(message.title())"
   ]
  },
  {
   "cell_type": "code",
   "execution_count": null,
   "id": "fcbe95cd",
   "metadata": {},
   "outputs": [],
   "source": [
    "we can add a massage using 'f' string"
   ]
  },
  {
   "cell_type": "code",
   "execution_count": 17,
   "id": "ac558a9f",
   "metadata": {},
   "outputs": [
    {
     "name": "stdout",
     "output_type": "stream",
     "text": [
      "how are you doing my friend,ramu kannam\n"
     ]
    }
   ],
   "source": [
    "message = f\"how are you doing my friend,{fullname}\"\n",
    "print(message)"
   ]
  },
  {
   "cell_type": "code",
   "execution_count": null,
   "id": "79efda6e",
   "metadata": {},
   "outputs": [],
   "source": [
    "adding \"whitespeaces\" to string"
   ]
  },
  {
   "cell_type": "code",
   "execution_count": 43,
   "id": "8f5d719b",
   "metadata": {},
   "outputs": [
    {
     "name": "stdout",
     "output_type": "stream",
     "text": [
      "py java c++\n"
     ]
    }
   ],
   "source": [
    "language = \"py java c++\"\n",
    "print(language)"
   ]
  },
  {
   "cell_type": "code",
   "execution_count": 46,
   "id": "4abef5e1",
   "metadata": {},
   "outputs": [
    {
     "name": "stdout",
     "output_type": "stream",
     "text": [
      "fav_lang:pyjavac++\n"
     ]
    }
   ],
   "source": [
    "language = \"fav_lang:pyjavac++\"\n",
    "print(language)"
   ]
  },
  {
   "cell_type": "code",
   "execution_count": null,
   "id": "8997f851",
   "metadata": {},
   "outputs": [],
   "source": [
    "we can read the output by using delimiter \"\\n\"...\\n = new line delimiter......let's see"
   ]
  },
  {
   "cell_type": "code",
   "execution_count": 2,
   "id": "94abbd34",
   "metadata": {},
   "outputs": [
    {
     "name": "stdout",
     "output_type": "stream",
     "text": [
      "fav_lang:\n",
      "py\n",
      "java\n",
      "c++\n"
     ]
    }
   ],
   "source": [
    "language1 = \"fav_lang:\\npy\\njava\\nc++\"\n",
    "print(language1)"
   ]
  },
  {
   "cell_type": "code",
   "execution_count": null,
   "id": "7bae28f4",
   "metadata": {},
   "outputs": [],
   "source": [
    "another delimiter is \"\\t\" = tab delimiter...."
   ]
  },
  {
   "cell_type": "code",
   "execution_count": 5,
   "id": "90721e2c",
   "metadata": {},
   "outputs": [
    {
     "name": "stdout",
     "output_type": "stream",
     "text": [
      "fav_lang:\n",
      "\tpy\n",
      "\tjava\n",
      "\tc++\n"
     ]
    }
   ],
   "source": [
    "language = \"fav_lang:\\n\\tpy\\n\\tjava\\n\\tc++\"\n",
    "print(language)"
   ]
  },
  {
   "cell_type": "code",
   "execution_count": null,
   "id": "1b1d7655",
   "metadata": {},
   "outputs": [],
   "source": [
    "removing whitespeaces from string"
   ]
  },
  {
   "cell_type": "code",
   "execution_count": 11,
   "id": "53d2f680",
   "metadata": {},
   "outputs": [
    {
     "name": "stdout",
     "output_type": "stream",
     "text": [
      " ramu\n",
      " ramu ara  srinu\n"
     ]
    }
   ],
   "source": [
    "name1 = \" ramu\"\n",
    "name2 = \"ara \"\n",
    "name3 = \" srinu \"\n",
    "print(name1.rstrip())\n",
    "print(name1.rstrip(),name2.lstrip(),name3.strip())\n"
   ]
  },
  {
   "cell_type": "code",
   "execution_count": 22,
   "id": "9eaaacd5",
   "metadata": {},
   "outputs": [
    {
     "name": "stdout",
     "output_type": "stream",
     "text": [
      "What About Dinner ramu kannam\n"
     ]
    }
   ],
   "source": [
    "firstname = \" ramu\"\n",
    "lastname = \"kannam \"\n",
    "fullname =f\"{firstname} {lastname}\"\n",
    "message = f\"what about dinner\"\n",
    "print(message.title(),firstname.lstrip(),lastname.rstrip())"
   ]
  },
  {
   "cell_type": "code",
   "execution_count": 23,
   "id": "7e673828",
   "metadata": {},
   "outputs": [
    {
     "name": "stdout",
     "output_type": "stream",
     "text": [
      "ramu kannam What About Dinner\n"
     ]
    }
   ],
   "source": [
    "print(firstname.lstrip(),lastname.rstrip(), message.title())"
   ]
  },
  {
   "cell_type": "code",
   "execution_count": null,
   "id": "158c8a96",
   "metadata": {},
   "outputs": [],
   "source": [
    "adding whitespeaces:"
   ]
  },
  {
   "cell_type": "code",
   "execution_count": 25,
   "id": "6145dfcb",
   "metadata": {},
   "outputs": [
    {
     "name": "stdout",
     "output_type": "stream",
     "text": [
      "name:ramu,tumma,dula,varalau\n"
     ]
    }
   ],
   "source": [
    "friends = \"name:ramu,tumma,dula,varalau\"\n",
    "print(friends)"
   ]
  },
  {
   "cell_type": "code",
   "execution_count": 29,
   "id": "42301935",
   "metadata": {},
   "outputs": [
    {
     "name": "stdout",
     "output_type": "stream",
     "text": [
      "names:\n",
      "ramu\n",
      "tumma\n",
      "dula\n",
      "varalu\n"
     ]
    }
   ],
   "source": [
    "friends = (\"names:\\nramu\\ntumma\\ndula\\nvaralu\")\n",
    "print(friends)"
   ]
  },
  {
   "cell_type": "code",
   "execution_count": 31,
   "id": "8d02b4bc",
   "metadata": {},
   "outputs": [
    {
     "name": "stdout",
     "output_type": "stream",
     "text": [
      "names:\tramu\ttumma\tdula\tvaralu\n"
     ]
    }
   ],
   "source": [
    "friends = \"names:\\tramu\\ttumma\\tdula\\tvaralu\"\n",
    "print(friends)"
   ]
  },
  {
   "cell_type": "code",
   "execution_count": 32,
   "id": "5ff02160",
   "metadata": {},
   "outputs": [
    {
     "name": "stdout",
     "output_type": "stream",
     "text": [
      "names:\n",
      "\tramu\n",
      "\ttumma\n",
      "\tdula\n",
      "\tvaralu\n"
     ]
    }
   ],
   "source": [
    "friends = \"names:\\n\\tramu\\n\\ttumma\\n\\tdula\\n\\tvaralu\"\n",
    "print(friends)"
   ]
  },
  {
   "cell_type": "code",
   "execution_count": null,
   "id": "26d8bcf0",
   "metadata": {},
   "outputs": [],
   "source": []
  },
  {
   "cell_type": "code",
   "execution_count": null,
   "id": "e0c2c2d0",
   "metadata": {},
   "outputs": [],
   "source": []
  },
  {
   "cell_type": "code",
   "execution_count": null,
   "id": "7bf77877",
   "metadata": {},
   "outputs": [],
   "source": []
  },
  {
   "cell_type": "code",
   "execution_count": null,
   "id": "9cf96ef5",
   "metadata": {},
   "outputs": [],
   "source": []
  },
  {
   "cell_type": "code",
   "execution_count": null,
   "id": "059a51ec",
   "metadata": {},
   "outputs": [],
   "source": []
  },
  {
   "cell_type": "code",
   "execution_count": null,
   "id": "c77c789f",
   "metadata": {},
   "outputs": [],
   "source": []
  },
  {
   "cell_type": "code",
   "execution_count": null,
   "id": "5569cca5",
   "metadata": {},
   "outputs": [],
   "source": []
  },
  {
   "cell_type": "code",
   "execution_count": null,
   "id": "67f37066",
   "metadata": {},
   "outputs": [],
   "source": []
  },
  {
   "cell_type": "code",
   "execution_count": null,
   "id": "aed3aa98",
   "metadata": {},
   "outputs": [],
   "source": []
  },
  {
   "cell_type": "code",
   "execution_count": null,
   "id": "d06a6f7d",
   "metadata": {},
   "outputs": [],
   "source": []
  },
  {
   "cell_type": "code",
   "execution_count": null,
   "id": "3be24ae4",
   "metadata": {},
   "outputs": [],
   "source": []
  },
  {
   "cell_type": "code",
   "execution_count": null,
   "id": "9189d222",
   "metadata": {},
   "outputs": [],
   "source": []
  },
  {
   "cell_type": "code",
   "execution_count": null,
   "id": "38a66e5d",
   "metadata": {},
   "outputs": [],
   "source": []
  },
  {
   "cell_type": "code",
   "execution_count": null,
   "id": "2758eb3e",
   "metadata": {},
   "outputs": [],
   "source": []
  },
  {
   "cell_type": "code",
   "execution_count": null,
   "id": "07bf4029",
   "metadata": {},
   "outputs": [],
   "source": []
  },
  {
   "cell_type": "code",
   "execution_count": null,
   "id": "9b6e6527",
   "metadata": {},
   "outputs": [],
   "source": []
  }
 ],
 "metadata": {
  "kernelspec": {
   "display_name": "Python 3 (ipykernel)",
   "language": "python",
   "name": "python3"
  },
  "language_info": {
   "codemirror_mode": {
    "name": "ipython",
    "version": 3
   },
   "file_extension": ".py",
   "mimetype": "text/x-python",
   "name": "python",
   "nbconvert_exporter": "python",
   "pygments_lexer": "ipython3",
   "version": "3.10.9"
  }
 },
 "nbformat": 4,
 "nbformat_minor": 5
}
